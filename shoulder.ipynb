{
 "cells": [
  {
   "cell_type": "markdown",
   "metadata": {},
   "source": [
    "  The fromkeys() method returns a dictionary with the specified keys and the specified value."
   ]
  },
  {
   "cell_type": "code",
   "execution_count": 1,
   "metadata": {},
   "outputs": [
    {
     "name": "stdout",
     "output_type": "stream",
     "text": [
      "{'key1': None, 'key2': None, 'key3': None}\n"
     ]
    }
   ],
   "source": [
    "x = ('key1', 'key2', 'key3')\n",
    "\n",
    "thisdict = dict.fromkeys(x)\n",
    "\n",
    "print(thisdict)\n",
    "\n"
   ]
  },
  {
   "cell_type": "code",
   "execution_count": 2,
   "metadata": {},
   "outputs": [
    {
     "name": "stdout",
     "output_type": "stream",
     "text": [
      "{'key1': 0, 'key2': 0, 'key3': 0}\n"
     ]
    }
   ],
   "source": [
    "x = ('key1', 'key2', 'key3')\n",
    "y = 0\n",
    "\n",
    "thisdict = dict.fromkeys(x, y)\n",
    "\n",
    "print(thisdict)"
   ]
  },
  {
   "cell_type": "code",
   "execution_count": 1,
   "metadata": {},
   "outputs": [
    {
     "name": "stdout",
     "output_type": "stream",
     "text": [
      "salihu luqman loging successful\n"
     ]
    }
   ],
   "source": [
    "x=('salihu luqman')\n",
    "y= ('loging successful')\n",
    "\n",
    "print(x,y)"
   ]
  },
  {
   "cell_type": "code",
   "execution_count": 11,
   "metadata": {},
   "outputs": [],
   "source": [
    "def login():\n",
    "    '''this print the sum of two numbers a and b'''\n",
    "    firstname = input('enter first name:')\n",
    "    lastname = input('enter last name:')\n",
    "    password = int (input('enter your password:'))\n",
    "    savedpassword = 1234\n",
    "\n",
    "    if  password == savedpassword:\n",
    "        print(f'login successful {firstname} {lastname}')\n",
    "\n",
    "    else:\n",
    "        print('incorrect password,try again')\n",
    "        \n",
    "    return"
   ]
  },
  {
   "cell_type": "code",
   "execution_count": 10,
   "metadata": {},
   "outputs": [
    {
     "name": "stdout",
     "output_type": "stream",
     "text": [
      "login successful salihu luqman\n"
     ]
    }
   ],
   "source": [
    "login()"
   ]
  },
  {
   "cell_type": "code",
   "execution_count": 12,
   "metadata": {},
   "outputs": [
    {
     "data": {
      "text/plain": [
       "'this print the sum of two numbers a and b'"
      ]
     },
     "execution_count": 12,
     "metadata": {},
     "output_type": "execute_result"
    }
   ],
   "source": [
    "login.__doc__"
   ]
  },
  {
   "cell_type": "code",
   "execution_count": 23,
   "metadata": {},
   "outputs": [],
   "source": [
    "def age():\n",
    "  age = int(input('your age'))\n",
    "  year =2024-age\n",
    "  print ('was born',year)\n"
   ]
  },
  {
   "cell_type": "code",
   "execution_count": 24,
   "metadata": {},
   "outputs": [
    {
     "name": "stdout",
     "output_type": "stream",
     "text": [
      "was born 2009\n"
     ]
    }
   ],
   "source": [
    "age ()"
   ]
  },
  {
   "cell_type": "code",
   "execution_count": 15,
   "metadata": {},
   "outputs": [
    {
     "name": "stdout",
     "output_type": "stream",
     "text": [
      "10.714285714285714\n"
     ]
    }
   ],
   "source": [
    "def average(a,n,e):\n",
    "    \n",
    "    print(a+n/e)\n",
    "    return\n",
    "average (9,12,7)\n",
    "\n"
   ]
  },
  {
   "cell_type": "code",
   "execution_count": 25,
   "metadata": {},
   "outputs": [
    {
     "name": "stdout",
     "output_type": "stream",
     "text": [
      "the passed name is john snow\n",
      "the new name in this function is harry potter\n"
     ]
    }
   ],
   "source": [
    "def change_name(name):\n",
    "    print(\"the passed name is {}\".format(name))\n",
    "    #change the name\n",
    "    name=\"harry potter\"\n",
    "    print(\"the new name in this function is {}\".format(name))\n",
    "    return\n",
    "\n",
    "#call the function\n",
    "name= \"john snow\"\n",
    "change_name(name)"
   ]
  },
  {
   "cell_type": "code",
   "execution_count": 26,
   "metadata": {},
   "outputs": [
    {
     "name": "stdout",
     "output_type": "stream",
     "text": [
      "the passed name is harry potter\n",
      "the new name in this function is harry potter\n"
     ]
    }
   ],
   "source": [
    "def change_name(name):\n",
    "    #change the name\n",
    "    name=\"harry potter\"\n",
    "    print(\"the passed name is {}\".format(name))\n",
    "    print(\"the new name in this function is {}\".format(name))\n",
    "    return\n",
    "\n",
    "#call the function\n",
    "name= \"john snow\"\n",
    "change_name(name)"
   ]
  },
  {
   "cell_type": "code",
   "execution_count": 29,
   "metadata": {},
   "outputs": [
    {
     "name": "stdout",
     "output_type": "stream",
     "text": [
      "1 2 3 4 5\n"
     ]
    }
   ],
   "source": [
    "def fruits(a,d,e,t,r):\n",
    "    print(a,d,e,t,r)\n",
    "    return\n",
    "fruits(1,2,3,4,5)"
   ]
  },
  {
   "cell_type": "code",
   "execution_count": 30,
   "metadata": {},
   "outputs": [
    {
     "name": "stdout",
     "output_type": "stream",
     "text": [
      "2012\n"
     ]
    }
   ],
   "source": [
    "def changename(age=12,year=2024):\n",
    "    print(year-age)\n",
    "    return\n",
    "changename()"
   ]
  }
 ],
 "metadata": {
  "kernelspec": {
   "display_name": "base",
   "language": "python",
   "name": "python3"
  },
  "language_info": {
   "codemirror_mode": {
    "name": "ipython",
    "version": 3
   },
   "file_extension": ".py",
   "mimetype": "text/x-python",
   "name": "python",
   "nbconvert_exporter": "python",
   "pygments_lexer": "ipython3",
   "version": "3.11.7"
  }
 },
 "nbformat": 4,
 "nbformat_minor": 2
}
